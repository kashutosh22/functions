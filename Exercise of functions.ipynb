{
 "cells": [
  {
   "cell_type": "code",
   "execution_count": null,
   "id": "f800cda1",
   "metadata": {},
   "outputs": [],
   "source": [
    "# 1. Write a python function to find max of 3 Numbers. "
   ]
  },
  {
   "cell_type": "code",
   "execution_count": 2,
   "id": "b23d8b8c",
   "metadata": {},
   "outputs": [
    {
     "name": "stdout",
     "output_type": "stream",
     "text": [
      "Enter first no. = 12\n",
      "Enter second no. = 8\n",
      "Enter third no. = 11\n",
      "12 Is bigeest of all three\n"
     ]
    }
   ],
   "source": [
    "def max():\n",
    "    if a > b and a > c:\n",
    "        print(a, \"Is bigeest of all three\")\n",
    "    elif b > a and b > c:\n",
    "        print(b, \"Is bigeest of all three\")\n",
    "    else:\n",
    "        print(c, \"Is bigeest of all three\")\n",
    "        \n",
    "a = int(input(\"Enter first no. = \"))\n",
    "b = int(input(\"Enter second no. = \"))\n",
    "c = int(input(\"Enter third no. = \"))\n",
    "max()\n"
   ]
  },
  {
   "cell_type": "code",
   "execution_count": null,
   "id": "4fa70e54",
   "metadata": {},
   "outputs": [],
   "source": [
    "# 2. Write a python function to find max of 3 Numbers (Using function inside a function). "
   ]
  },
  {
   "cell_type": "code",
   "execution_count": 5,
   "id": "b0cfbc64",
   "metadata": {},
   "outputs": [
    {
     "name": "stdout",
     "output_type": "stream",
     "text": [
      "Enter first no. = 8\n",
      "Enter second no. = 21\n",
      "Enter third no. = 14\n",
      "21\n"
     ]
    }
   ],
   "source": [
    "def max_two(a, b):\n",
    "    if a > b:\n",
    "        return a\n",
    "    return b\n",
    "\n",
    "def max_three(a, b, c):\n",
    "    return max_two(a, max_two(b, c))\n",
    "\n",
    "a = int(input(\"Enter first no. = \"))\n",
    "b = int(input(\"Enter second no. = \"))\n",
    "c = int(input(\"Enter third no. = \"))\n",
    "print(max_three(a, b, c))\n",
    "    "
   ]
  },
  {
   "cell_type": "code",
   "execution_count": null,
   "id": "700361d1",
   "metadata": {},
   "outputs": [],
   "source": [
    "# 3. Write a function to find sum of elements in list. "
   ]
  },
  {
   "cell_type": "code",
   "execution_count": 1,
   "id": "3cbd745a",
   "metadata": {},
   "outputs": [
    {
     "name": "stdout",
     "output_type": "stream",
     "text": [
      "Sum of elements in list =  47\n"
     ]
    }
   ],
   "source": [
    "def sum(list):\n",
    "    s = 0\n",
    "    for i in list:\n",
    "        s += i\n",
    "    return s\n",
    "\n",
    "list = [5, 8, 3, 10, 6, 15]\n",
    "print(\"Sum of elements in list = \",sum(list))"
   ]
  },
  {
   "cell_type": "code",
   "execution_count": null,
   "id": "02021b45",
   "metadata": {},
   "outputs": [],
   "source": [
    "# 4. Write a python function to find factorial of given no."
   ]
  },
  {
   "cell_type": "code",
   "execution_count": 11,
   "id": "06906e7d",
   "metadata": {},
   "outputs": [
    {
     "name": "stdout",
     "output_type": "stream",
     "text": [
      "Enter the number = 5\n",
      "Factorial of Given no. is \n",
      "120\n"
     ]
    }
   ],
   "source": [
    "def fact(num):\n",
    "    f = 1\n",
    "    if num == 0 and num == 1:\n",
    "        return 1\n",
    "    else:\n",
    "        for i in range(1, num+1):\n",
    "            f = f * i\n",
    "    print(f)\n",
    "    \n",
    "num = int(input(\"Enter the number = \"))\n",
    "print(\"Factorial of Given no. is \")\n",
    "fact(num)"
   ]
  }
 ],
 "metadata": {
  "kernelspec": {
   "display_name": "Python 3 (ipykernel)",
   "language": "python",
   "name": "python3"
  },
  "language_info": {
   "codemirror_mode": {
    "name": "ipython",
    "version": 3
   },
   "file_extension": ".py",
   "mimetype": "text/x-python",
   "name": "python",
   "nbconvert_exporter": "python",
   "pygments_lexer": "ipython3",
   "version": "3.9.7"
  }
 },
 "nbformat": 4,
 "nbformat_minor": 5
}
